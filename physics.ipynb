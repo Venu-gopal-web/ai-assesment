{
 "cells": [
  {
   "cell_type": "code",
   "execution_count": 1,
   "id": "e61c32f4",
   "metadata": {},
   "outputs": [],
   "source": [
    "import tkinter as tk\n",
    "from tkinter import scrolledtext\n",
    "from rdflib import Graph\n",
    "from rdflib.plugins.sparql import prepareQuery\n"
   ]
  },
  {
   "cell_type": "code",
   "execution_count": null,
   "id": "33977605",
   "metadata": {},
   "outputs": [],
   "source": [
    "\n",
    "# Load the RDF file (Your ontology file)\n",
    "ontology_file = \"physics.owl\"\n",
    "\n",
    "# Initialize the graph\n",
    "graph = Graph()\n",
    "graph.parse(ontology_file, format=\"xml\")\n",
    "\n",
    "# SPARQL Query Function\n",
    "def run_sparql_query():\n",
    "    query = query_input.get(\"1.0\", \"end-1c\")  # Get the query from the text input\n",
    "    try:\n",
    "        result = graph.query(query)  # Execute the SPARQL query\n",
    "        output_text.delete(1.0, tk.END)  # Clear previous output\n",
    "        # Format the result into a readable form\n",
    "        for row in result:\n",
    "            output_text.insert(tk.END, f\"{row}\\n\")\n",
    "    except Exception as e:\n",
    "        output_text.delete(1.0, tk.END)\n",
    "        output_text.insert(tk.END, f\"Error: {str(e)}\")\n",
    "\n",
    "# Create the main window\n",
    "root = tk.Tk()\n",
    "root.title(\"SPARQL Query Interface for Physics Ontology\")\n",
    "\n",
    "# Create a label\n",
    "label = tk.Label(root, text=\"Enter your SPARQL query:\")\n",
    "label.pack(pady=10)\n",
    "\n",
    "# Create a text box for SPARQL query input\n",
    "query_input = scrolledtext.ScrolledText(root, height=10, width=60)\n",
    "query_input.pack(pady=10)\n",
    "\n",
    "# Create a button to run the SPARQL query\n",
    "query_button = tk.Button(root, text=\"Run SPARQL Query\", command=run_sparql_query)\n",
    "query_button.pack(pady=10)\n",
    "\n",
    "# Create a text box to show the output results\n",
    "output_text = scrolledtext.ScrolledText(root, height=10, width=60)\n",
    "output_text.pack(pady=10)\n",
    "\n",
    "# Run the GUI loop\n",
    "root.mainloop()\n"
   ]
  },
  {
   "cell_type": "code",
   "execution_count": null,
   "id": "dbbe393a",
   "metadata": {},
   "outputs": [],
   "source": []
  }
 ],
 "metadata": {
  "kernelspec": {
   "display_name": "Python 3 (ipykernel)",
   "language": "python",
   "name": "python3"
  },
  "language_info": {
   "codemirror_mode": {
    "name": "ipython",
    "version": 3
   },
   "file_extension": ".py",
   "mimetype": "text/x-python",
   "name": "python",
   "nbconvert_exporter": "python",
   "pygments_lexer": "ipython3",
   "version": "3.11.4"
  }
 },
 "nbformat": 4,
 "nbformat_minor": 5
}
